{
 "cells": [
  {
   "cell_type": "code",
   "execution_count": 1,
   "metadata": {},
   "outputs": [],
   "source": [
    "from PyQt5 import QtCore, QtWidgets\n",
    "from PyQt5.QtGui import *\n",
    "from PyQt5.QtWidgets import *\n",
    "import time\n",
    "import sys\n",
    "#重写QSplashScreen类\n",
    "class MySplashScreen(QSplashScreen):\n",
    "    # 鼠标点击事件\n",
    "    def mousePressEvent(self, event):\n",
    "        pass\n",
    "\n",
    "# 主界面\n",
    "class MyWindow(QMainWindow):\n",
    "    # 初始化MenuDemo子类\n",
    "    def __init__(self, parent=None):\n",
    "        super(MyWindow, self).__init__(parent)\n",
    "        self.setWindowTitle(\"Demo\")\n",
    "        # 宽×高\n",
    "        self.resize(600, 600)\n",
    "        # 最小窗口尺寸\n",
    "        self.setMinimumSize(600,500)\n",
    "        self.btn = QPushButton('关闭窗口')\n",
    "        self.btn.clicked.connect(self.fun_Exit)\n",
    "        self.setCentralWidget(self.btn)\n",
    "\n",
    "    def load_data(self, sp):\n",
    "        for i in range(1, 11):  # 模拟主程序加载过程\n",
    "            time.sleep(1)  # 加载数据\n",
    "            sp.showMessage(\"加载... {0}%\".format(i * 10), QtCore.Qt.AlignHCenter | QtCore.Qt.AlignBottom, QtCore.Qt.black)\n",
    "            QtWidgets.qApp.processEvents()  # 允许主进程处理事件\n",
    "\n",
    "    # 退出菜单响应\n",
    "    def fun_Exit(self):\n",
    "        response_quit = QApplication.instance()\n",
    "        response_quit.quit()\n",
    "\n",
    "if __name__ == \"__main__\":\n",
    "    app = QtWidgets.QApplication(sys.argv)\n",
    "    #设置启动界面\n",
    "    splash = MySplashScreen()\n",
    "    #初始图片\n",
    "    splash.setPixmap(QPixmap('../双光融合/1&2.jpg'))  # 设置背景图片\n",
    "    #初始文本\n",
    "    splash.showMessage(\"加载... 0%\", QtCore.Qt.AlignHCenter | QtCore.Qt.AlignBottom, QtCore.Qt.black)\n",
    "    # 设置字体\n",
    "    splash.setFont(QFont('微软雅黑', 10))\n",
    "    # 显示启动界面\n",
    "    splash.show()\n",
    "    app.processEvents()  # 处理主进程事件\n",
    "    #主窗口\n",
    "    window = MyWindow()\n",
    "    window.load_data(splash)  # 加载数据\n",
    "    window.show()\n",
    "    splash.finish(window)  # 隐藏启动界面\n",
    "    splash.deleteLater()\n",
    "    app.exec_()\n"
   ]
  }
 ],
 "metadata": {
  "kernelspec": {
   "display_name": "Python 3.7.4 64-bit ('school')",
   "language": "python",
   "name": "python3"
  },
  "language_info": {
   "codemirror_mode": {
    "name": "ipython",
    "version": 3
   },
   "file_extension": ".py",
   "mimetype": "text/x-python",
   "name": "python",
   "nbconvert_exporter": "python",
   "pygments_lexer": "ipython3",
   "version": "3.7.4"
  },
  "orig_nbformat": 4,
  "vscode": {
   "interpreter": {
    "hash": "9c12661a1f1bdf070d9a1c27b3120f841da7f1fa049dcfcc09f095dcd2a4f96d"
   }
  }
 },
 "nbformat": 4,
 "nbformat_minor": 2
}
